{
 "cells": [
  {
   "cell_type": "markdown",
   "metadata": {},
   "source": [
    "# CI Reports\n",
    "\n",
    "This notebook generates Continuous Integration (CI) reports for the Guage-Kit project. It evaluates the performance of the project based on the metrics defined in the project plan."
   ]
  },
  {
   "cell_type": "code",
   "execution_count": null,
   "metadata": {
    "collapsed": false
   },
   "outputs": [],
   "source": [
    "# Import necessary libraries\n",
    "import pandas as pd\n",
    "import matplotlib.pyplot as plt\n",
    "import json\n",
    "import os\n",
    "\n",
    "# Load CI results\n",
    "def load_ci_results(file_path):\n",
    "    with open(file_path, 'r') as f:\n",
    "        return json.load(f)\n",
    "\n",
    "# Example path to CI results\n",
    "ci_results_path = '.github/workflows/ci_results.json'\n",
    "ci_results = load_ci_results(ci_results_path)\n",
    "\n",
    "# Create a DataFrame from CI results\n",
    "df = pd.DataFrame(ci_results)\n",
    "\n",
    "# Display the DataFrame\n",
    "df.head()"
   ]
  },
  {
   "cell_type": "code",
   "execution_count": null,
   "metadata": {
    "collapsed": false
   },
   "outputs": [],
   "source": [
    "# Generate plots for CI metrics\n",
    "def plot_ci_metrics(df):\n",
    "    plt.figure(figsize=(10, 6))\n",
    "    plt.plot(df['timestamp'], df['coverage'], label='Coverage', marker='o')\n",
    "    plt.plot(df['timestamp'], df['lint_errors'], label='Lint Errors', marker='x')\n",
    "    plt.title('CI Metrics Over Time')\n",
    "    plt.xlabel('Timestamp')\n",
    "    plt.ylabel('Metrics')\n",
    "    plt.legend()\n",
    "    plt.xticks(rotation=45)\n",
    "    plt.tight_layout()\n",
    "    plt.show()\n",
    "\n",
    "# Plot the CI metrics\n",
    "plot_ci_metrics(df)"
   ]
  },
  {
   "cell_type": "code",
   "execution_count": null,
   "metadata": {
    "collapsed": false
   },
   "outputs": [],
   "source": [
    "# Save the report as HTML\n",
    "report_path = 'ci_report.html'\n",
    "with open(report_path, 'w') as f:\n",
    "    f.write('<h1>CI Report</h1>')\n",
    "    f.write('<h2>Metrics</h2>')\n",
    "    f.write(df.to_html())\n",
    "    f.write('<h2>Plots</h2>')\n",
    "    plt.savefig('ci_metrics_plot.png')\n",
    "    f.write('<img src=\"ci_metrics_plot.png\" alt=\"CI Metrics Plot\">')\n",
    "\n",
    "print(f'Report saved to {report_path}')"
   ]
  }
 ],
 "metadata": {
  "kernelspec": {
   "display_name": "Python 3",
   "language": "python",
   "name": "python3"
  },
  "language_info": {
   "codemirror_mode": {
    "name": "ipython",
    "version": 3
   },
   "file_extension": ".py",
   "mimetype": "text/x-python",
   "name": "python",
   "nbconvert_exporter": "python",
   "pygments_lexer": "ipython3",
   "version": "3.8.5"
  }
 },
 "nbformat": 4,
 "nbformat_minor": 4
}