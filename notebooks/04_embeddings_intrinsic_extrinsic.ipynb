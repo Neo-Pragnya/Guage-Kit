{
 "cells": [
  {
   "cell_type": "markdown",
   "metadata": {},
   "source": [
    "# Evaluating Intrinsic and Extrinsic Metrics for Embeddings\n",
    "\n",
    "This notebook explores the evaluation of intrinsic and extrinsic metrics for embeddings. We will load sample embeddings, compute various metrics, and visualize the results."
   ]
  },
  {
   "cell_type": "code",
   "execution_count": 1,
   "metadata": {},
   "outputs": [],
   "source": [
    "# Import necessary libraries\n",
    "import pandas as pd\n",
    "import numpy as np\n",
    "import matplotlib.pyplot as plt\n",
    "from guage_kit.datasets.loaders import load_path\n",
    "from guage_kit.metrics.embeddings import STS_Spearman, kNN_accuracy\n",
    "\n",
    "# Load sample data\n",
    "data_path = 'src/guage_kit/datasets/demo/sample_data.jsonl'\n",
    "samples = load_path(data_path)\n",
    "print(f'Loaded {len(samples)} samples.')"
   ]
  },
  {
   "cell_type": "code",
   "execution_count": 2,
   "metadata": {},
   "outputs": [],
   "source": [
    "# Compute intrinsic metrics\n",
    "intrinsic_scores = []\n",
    "for sample in samples:\n",
    "    score = STS_Spearman(sample['embedding1'], sample['embedding2'])\n",
    "    intrinsic_scores.append(score)\n",
    "\n",
    "print(f'Intrinsic Scores: {intrinsic_scores}')"
   ]
  },
  {
   "cell_type": "code",
   "execution_count": 3,
   "metadata": {},
   "outputs": [],
   "source": [
    "# Compute extrinsic metrics\n",
    "extrinsic_scores = []\n",
    "for sample in samples:\n",
    "    score = kNN_accuracy(sample['embedding'], sample['label'])\n",
    "    extrinsic_scores.append(score)\n",
    "\n",
    "print(f'Extrinsic Scores: {extrinsic_scores}')"
   ]
  },
  {
   "cell_type": "code",
   "execution_count": 4,
   "metadata": {},
   "outputs": [],
   "source": [
    "# Visualize the results\n",
    "plt.figure(figsize=(12, 6))\n",
    "plt.subplot(1, 2, 1)\n",
    "plt.hist(intrinsic_scores, bins=20, color='blue', alpha=0.7)\n",
    "plt.title('Intrinsic Scores Distribution')\n",
    "plt.xlabel('Score')\n",
    "plt.ylabel('Frequency')\n",
    "\n",
    "plt.subplot(1, 2, 2)\n",
    "plt.hist(extrinsic_scores, bins=20, color='green', alpha=0.7)\n",
    "plt.title('Extrinsic Scores Distribution')\n",
    "plt.xlabel('Score')\n",
    "plt.ylabel('Frequency')\n",
    "\n",
    "plt.tight_layout()\n",
    "plt.show()"
   ]
  }
 ],
 "metadata": {
  "kernelspec": {
   "display_name": "Python 3",
   "language": "python",
   "name": "python3"
  },
  "language_info": {
   "codemirror_mode": {
    "name": "ipython",
    "version": 3
   },
   "file_extension": ".py",
   "mimetype": "text/x-python",
   "name": "python",
   "nbconvert_exporter": "python",
   "pygments_lexer": "ipython3",
   "version": "3.8.5"
  }
 },
 "nbformat": 4,
 "nbformat_minor": 4
}