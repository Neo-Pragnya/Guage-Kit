    "uv install guage-kit\n",
    "