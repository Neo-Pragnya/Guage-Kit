{
 "cells": [
  {
   "cell_type": "markdown",
   "metadata": {},
   "source": [
    "# Custom Metrics\n",
    "\n",
    "This notebook demonstrates how to create and evaluate custom metrics for the Guage-Kit project. Custom metrics can be defined to suit specific evaluation needs beyond the built-in metrics provided by the toolkit."
   ]
  },
  {
   "cell_type": "code",
   "execution_count": null,
   "metadata": {
    "collapsed": false
   },
   "outputs": [],
   "source": [
    "# Import necessary libraries\n",
    "import json\n",
    "import pandas as pd\n",
    "from guage_kit.api import evaluate\n",
    "from guage_kit.schemas.core import EvalSample\n",
    "\n",
    "# Define a custom metric function\n",
    "def custom_metric(eval_samples):\n",
    "    \"\"\"A simple custom metric that calculates the average length of generated texts.\"\"\"\n",
    "    total_length = 0\n",
    "    for sample in eval_samples:\n",
    "        total_length += len(sample.generation.text)\n",
    "    return total_length / len(eval_samples) if eval_samples else 0\n",
    "\n",
    "# Example usage of the custom metric\n",
    "def run_custom_metric_example():\n",
    "    # Sample evaluation data\n",
    "    eval_data = [\n",
    "        EvalSample(\n",
    "            query={'id': 'q1', 'prompt': 'What is CRISPR?'},\n",
    "            generation={'query_id': 'q1', 'text': 'CRISPR is a genome editing technology.'}\n",
    "        ),\n",
    "        EvalSample(\n",
    "            query={'id': 'q2', 'prompt': 'Explain quantum computing.'},\n",
    "            generation={'query_id': 'q2', 'text': 'Quantum computing uses quantum bits.'}\n",
    "        )\n",
    "    ]\n",
    "\n",
    "    # Evaluate using the custom metric\n",
    "    average_length = custom_metric(eval_data)\n",
    "    print(f\"Average length of generated texts: {average_length}\")\n",
    "\n",
    "# Run the example\n",
    "run_custom_metric_example()"
   ]
  }
 ],
 "metadata": {
  "kernelspec": {
   "display_name": "Python 3",
   "language": "python",
   "name": "python3"
  },
  "language_info": {
   "codemirror_mode": {
    "name": "ipython",
    "version": 3
   },
   "file_extension": ".py",
   "mimetype": "text/x-python",
   "name": "python",
   "nbconvert_exporter": "python",
   "pygments_lexer": "ipython3",
   "version": "3.8.5"
  }
 },
 "nbformat": 4,
 "nbformat_minor": 4
}