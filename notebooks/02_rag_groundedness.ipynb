{
 "cells": [
  {
   "cell_type": "markdown",
   "metadata": {},
   "source": [
    "# RAG Groundedness Evaluation\n",
    "\n",
    "This notebook explores the evaluation of RAG (Retrieval-Augmented Generation) groundedness metrics using the `guage-kit` toolkit. We will load a dataset, run evaluations, and visualize the results."
   ]
  },
  {
   "cell_type": "code",
   "execution_count": null,
   "metadata": {},
   "outputs": [],
   "source": [
    "import json\n",
    "import pandas as pd\n",
    "from guage_kit.datasets.loaders import load_path\n",
    "from guage_kit.api import evaluate\n",
    "\n",
    "# Load the dataset\n",
    "data_path = 'path/to/your/dataset.jsonl'  # Update with your dataset path\n",
    "samples = load_path(data_path)\n",
    "\n",
    "# Define metrics to evaluate\n",
    "metrics = ['faithfulness', 'answer_relevancy']\n",
    "\n",
    "# Run evaluation\n",
    "results = evaluate(samples, metrics=metrics)\n",
    "\n",
    "# Display results\n",
    "results_df = pd.DataFrame(results.items(), columns=['Metric', 'Score'])\n",
    "results_df"
   ]
  },
  {
   "cell_type": "markdown",
   "metadata": {},
   "source": [
    "## Results Visualization\n",
    "\n",
    "We can visualize the evaluation results using a bar chart."
   ]
  },
  {
   "cell_type": "code",
   "execution_count": null,
   "metadata": {},
   "outputs": [],
   "source": [
    "import matplotlib.pyplot as plt\n",
    "\n",
    "# Plotting the results\n",
    "plt.figure(figsize=(10, 5))\n",
    "plt.bar(results_df['Metric'], results_df['Score'], color='skyblue')\n",
    "plt.title('RAG Groundedness Metrics Evaluation')\n",
    "plt.xlabel('Metrics')\n",
    "plt.ylabel('Scores')\n",
    "plt.xticks(rotation=45)\n",
    "plt.tight_layout()\n",
    "plt.show()"
   ]
  }
 ],
 "metadata": {
  "kernelspec": {
   "display_name": "Python 3",
   "language": "python",
   "name": "python3"
  },
  "language_info": {
   "codemirror_mode": {
    "name": "ipython",
    "version": 3
   },
   "file_extension": ".py",
   "mimetype": "text/x-python",
   "name": "python",
   "nbconvert_exporter": "python",
   "pygments_lexer": "ipython3",
   "version": "3.8.5"
  }
 },
 "nbformat": 4,
 "nbformat_minor": 4
}